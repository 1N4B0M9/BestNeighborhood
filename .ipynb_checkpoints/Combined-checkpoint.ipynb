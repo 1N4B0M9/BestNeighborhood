{
 "cells": [
  {
   "cell_type": "code",
   "execution_count": 2,
   "id": "3962e52d-ea20-4a06-8cb6-8e0146a49b14",
   "metadata": {},
   "outputs": [
    {
     "name": "stdout",
     "output_type": "stream",
     "text": [
      "                   Neighborhood  Total Rank  average_daily_car_traffic  \\\n",
      "59      Mt. Oliver Neighborhood         5.0                        0.0   \n",
      "93       Troy Hill-Herrs Island         6.0                        0.0   \n",
      "58              Mt. Oliver Boro         7.0                        0.0   \n",
      "55         Mount Oliver Borough        12.0                        0.0   \n",
      "57                   Mt. Oliver        15.0                        0.0   \n",
      "66               Outside County        16.0                        0.0   \n",
      "67                Outside State        17.0                        0.0   \n",
      "37  Golden Triangle/Civic Arena        20.0                        0.0   \n",
      "75                    Ridgemont        21.0                        0.0   \n",
      "54                 Mount Oliver        22.0                        0.0   \n",
      "27                East Carnegie        25.0                        0.0   \n",
      "90               Swisshelm Park        29.0                        0.0   \n",
      "64                      Oakwood        33.0                        0.0   \n",
      "4             Arlington Heights        40.0                        0.0   \n",
      "39                         Hays        46.0                        0.0   \n",
      "36                   Glen Hazel        47.0                        0.0   \n",
      "65                 Outside City        49.0                        0.0   \n",
      "32                    Fairywood        52.0                        0.0   \n",
      "31                       Esplen        56.0                        0.0   \n",
      "11                      Bon Air        59.0                        0.0   \n",
      "\n",
      "    Fire Count  Crime Count  \n",
      "59         0.0          2.0  \n",
      "93         0.0          6.0  \n",
      "58         0.0         18.0  \n",
      "55         7.0          0.0  \n",
      "57        12.0          0.0  \n",
      "66         0.0         57.0  \n",
      "67         0.0         67.0  \n",
      "37         0.0         83.0  \n",
      "75        12.0         37.0  \n",
      "54         0.0        124.0  \n",
      "27        11.0         48.0  \n",
      "90        17.0         43.0  \n",
      "64        13.0         82.0  \n",
      "4         13.0        155.0  \n",
      "39        24.0        120.0  \n",
      "36        20.0        169.0  \n",
      "65         0.0        316.0  \n",
      "32        27.0        127.0  \n",
      "31        23.0        200.0  \n",
      "11        22.0        267.0  \n"
     ]
    }
   ],
   "source": [
    "import pandas as pd\n",
    "\n",
    "chip = pd.read_csv(\"Traffic_Data.csv\", sep=\",\")\n",
    "traffic_grouped = chip.groupby('neighborhood', as_index=False)['average_daily_car_traffic'].sum()\n",
    "traffic_grouped.rename(columns={\"neighborhood\": \"Neighborhood\"}, inplace=True)\n",
    "\n",
    "url = \"https://data.wprdc.org/datastore/dump/8d76ac6b-5ae8-4428-82a4-043130d17b02\"\n",
    "data = pd.read_csv(url)\n",
    "fire_counts = data['neighborhood'].value_counts().reset_index()\n",
    "fire_counts.columns = ['Neighborhood', 'Fire Count']\n",
    "\n",
    "crime = pd.read_csv(\"crime.csv\", index_col=\"_id\")\n",
    "crime_counts_df = (\n",
    "    crime.groupby(\"INCIDENTNEIGHBORHOOD\")\n",
    "         .size()\n",
    "         .reset_index(name=\"Crime Count\")\n",
    "         .rename(columns={\"INCIDENTNEIGHBORHOOD\": \"Neighborhood\"})\n",
    ")\n",
    "\n",
    "merged = traffic_grouped.merge(fire_counts, on=\"Neighborhood\", how=\"outer\")\n",
    "merged = merged.merge(crime_counts_df, on=\"Neighborhood\", how=\"outer\")\n",
    "\n",
    "merged.fillna(0, inplace=True)\n",
    "\n",
    "merged['Traffic Rank'] = merged['average_daily_car_traffic'].rank(method='min')\n",
    "merged['Fire Rank'] = merged['Fire Count'].rank(method='min')\n",
    "merged['Crime Rank'] = merged['Crime Count'].rank(method='min')\n",
    "\n",
    "merged['Total Rank'] = merged['Traffic Rank'] + merged['Fire Rank'] + merged['Crime Rank']\n",
    "\n",
    "final_ranking = merged.sort_values(by='Total Rank')\n",
    "\n",
    "print(final_ranking[['Neighborhood', 'Total Rank', 'average_daily_car_traffic', 'Fire Count', 'Crime Count']].head(20))\n"
   ]
  },
  {
   "cell_type": "code",
   "execution_count": null,
   "id": "36df5b41-8820-4640-99dd-e6c3496d18bf",
   "metadata": {},
   "outputs": [],
   "source": []
  }
 ],
 "metadata": {
  "kernelspec": {
   "display_name": "Python 3 (ipykernel)",
   "language": "python",
   "name": "python3"
  },
  "language_info": {
   "codemirror_mode": {
    "name": "ipython",
    "version": 3
   },
   "file_extension": ".py",
   "mimetype": "text/x-python",
   "name": "python",
   "nbconvert_exporter": "python",
   "pygments_lexer": "ipython3",
   "version": "3.12.2"
  }
 },
 "nbformat": 4,
 "nbformat_minor": 5
}
