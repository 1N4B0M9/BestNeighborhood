{
 "cells": [
  {
   "cell_type": "code",
   "execution_count": 37,
   "id": "18e01a72-db08-4a50-92b2-eec8fba3338c",
   "metadata": {},
   "outputs": [
    {
     "name": "stdout",
     "output_type": "stream",
     "text": [
      "                 neighborhood  average_daily_car_traffic\n",
      "39                Middle Hill                        0.0\n",
      "19           Crawford-Roberts                        0.0\n",
      "55              South Oakland                        0.0\n",
      "3                  Banksville                        0.0\n",
      "70        Upper Lawrenceville                        0.0\n",
      "17                    Chateau                        0.0\n",
      "45                    Oakwood                        0.0\n",
      "68                  Troy Hill                        0.0\n",
      "67             Swisshelm Park                        0.0\n",
      "56                South Shore                        0.0\n",
      "57           South Side Flats                      115.0\n",
      "34              Lincoln Place                      126.0\n",
      "35   Lincoln-Lemington-Belmar                      195.0\n",
      "25                   Fineview                      419.0\n",
      "1              Allegheny West                      477.0\n",
      "42              New Homestead                      666.0\n",
      "46                  Overbrook                      777.0\n",
      "66                Summer Hill                      937.0\n",
      "59              Spring Garden                     1226.0\n",
      "5                 Beltzhoover                     1577.0\n",
      "21             East Allegheny                     1924.0\n",
      "12  Central Business District                     2305.0\n",
      "0            Allegheny Center                     2386.0\n",
      "63                  St. Clair                     2436.0\n",
      "16             Chartiers City                     2571.0\n",
      "28                  Hazelwood                     2579.0\n",
      "71               West Oakland                     2585.0\n",
      "60      Spring Hill-City View                     2586.0\n",
      "69                 Upper Hill                     2860.0\n",
      "73                    Windgap                     3062.0\n",
      "36        Lower Lawrenceville                     3472.0\n",
      "24                    Elliott                     4028.0\n",
      "4                   Beechview                     4255.0\n",
      "2                   Arlington                     4571.0\n",
      "26                 Friendship                     4887.0\n",
      "7                       Bluff                     5365.0\n",
      "20           Duquesne Heights                     5831.0\n",
      "14          Central Northside                     5945.0\n",
      "30             Homewood North                     7027.0\n",
      "27                 Greenfield                     7158.0\n",
      "8            Brighton Heights                     7547.0\n",
      "32                  Knoxville                     7646.0\n",
      "54                   Sheraden                     8532.0\n",
      "50         Point Breeze North                     9928.0\n",
      "44                North Shore                    10350.0\n",
      "15            Central Oakland                    11306.0\n",
      "18            Crafton Heights                    11500.0\n",
      "48                Perry South                    12075.0\n",
      "13      Central Lawrenceville                    13499.0\n",
      "11                    Carrick                    13787.0\n",
      "40                Morningside                    14345.0\n",
      "10       California-Kirkbride                    14926.0\n",
      "72                   Westwood                    15400.0\n",
      "38         Marshall-Shadeland                    15520.0\n",
      "51                Polish Hill                    15894.0\n",
      "22                 East Hills                    16253.0\n",
      "64            Stanton Heights                    16272.0\n",
      "52              Regent Square                    16729.0\n",
      "47                Perry North                    19114.0\n",
      "37                 Manchester                    21293.0\n"
     ]
    }
   ],
   "source": [
    "import pandas as pd\n",
    "\n",
    "chip = pd.read_csv(\"Traffic_Data.csv\", sep=\",\")\n",
    "add_duplicates = chip.groupby('neighborhood', as_index=False)['average_daily_car_traffic'].sum()\n",
    "final_chip = add_duplicates.sort_values(by='average_daily_car_traffic')\n",
    "print(final_chip.head(60))"
   ]
  },
  {
   "cell_type": "code",
   "execution_count": null,
   "id": "dd8744d6-136f-49af-8b0f-b51090211b81",
   "metadata": {},
   "outputs": [],
   "source": []
  }
 ],
 "metadata": {
  "kernelspec": {
   "display_name": "Python [conda env:base] *",
   "language": "python",
   "name": "conda-base-py"
  },
  "language_info": {
   "codemirror_mode": {
    "name": "ipython",
    "version": 3
   },
   "file_extension": ".py",
   "mimetype": "text/x-python",
   "name": "python",
   "nbconvert_exporter": "python",
   "pygments_lexer": "ipython3",
   "version": "3.12.7"
  }
 },
 "nbformat": 4,
 "nbformat_minor": 5
}
