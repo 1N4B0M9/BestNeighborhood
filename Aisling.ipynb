{
 "cells": [
  {
   "cell_type": "markdown",
   "id": "fd8070cd-8b9b-461b-a003-d2bc0a44c2a3",
   "metadata": {},
   "source": [
    "Fire Incidents - 1/3 Data Sets University of Pittsburgh "
   ]
  },
  {
   "cell_type": "code",
   "execution_count": 2,
   "id": "12dc9d64-72f9-46af-9955-6e9ebba90ccf",
   "metadata": {},
   "outputs": [
    {
     "name": "stdout",
     "output_type": "stream",
     "text": [
      "Neighborhoods sorted by fire count (least to most):\n",
      "                 Neighborhood  Fire Count\n",
      "90       Mount Oliver Borough           7\n",
      "89              Regent Square           9\n",
      "88              East Carnegie          11\n",
      "86                  Ridgemont          12\n",
      "87                 Mt. Oliver          12\n",
      "..                        ...         ...\n",
      "4                   Hazelwood         262\n",
      "3         Squirrel Hill South         272\n",
      "2   Central Business District         297\n",
      "1            South Side Flats         303\n",
      "0                     Carrick         317\n",
      "\n",
      "[91 rows x 2 columns]\n"
     ]
    }
   ],
   "source": [
    "import pandas as pd\n",
    "\n",
    "## URL\n",
    "url = \"https://data.wprdc.org/datastore/dump/8d76ac6b-5ae8-4428-82a4-043130d17b02\"\n",
    "data = pd.read_csv(url)\n",
    "\n",
    "## Group neighborhood and count number of fire events\n",
    "fire_counts = data['neighborhood'].value_counts().reset_index()\n",
    "\n",
    "## Rename\n",
    "fire_counts.columns = ['Neighborhood', 'Fire Count']\n",
    "\n",
    "## Sort from least to most fire occurrences\n",
    "fire_counts_sorted = fire_counts.sort_values(by='Fire Count')\n",
    "\n",
    "## Print\n",
    "print(\"Neighborhoods sorted by fire count (least to most):\")\n",
    "print(fire_counts_sorted)"
   ]
  },
  {
   "cell_type": "code",
   "execution_count": null,
   "id": "d6b378c1-4ba2-48ec-9240-44c9667f5cca",
   "metadata": {},
   "outputs": [],
   "source": []
  }
 ],
 "metadata": {
  "kernelspec": {
   "display_name": "Python 3 (ipykernel)",
   "language": "python",
   "name": "python3"
  },
  "language_info": {
   "codemirror_mode": {
    "name": "ipython",
    "version": 3
   },
   "file_extension": ".py",
   "mimetype": "text/x-python",
   "name": "python",
   "nbconvert_exporter": "python",
   "pygments_lexer": "ipython3",
   "version": "3.11.5"
  }
 },
 "nbformat": 4,
 "nbformat_minor": 5
}
